{
  "nbformat": 4,
  "nbformat_minor": 0,
  "metadata": {
    "colab": {
      "provenance": []
    },
    "kernelspec": {
      "name": "python3",
      "display_name": "Python 3"
    },
    "language_info": {
      "name": "python"
    }
  },
  "cells": [
    {
      "cell_type": "code",
      "source": [
        "# import the necessary packages\n",
        "import cv2\n",
        "import math\n",
        "import numpy as np # matrix, array operations\n",
        "from PIL import Image\n",
        "import matplotlib.pyplot as plt # plotting tools\n",
        "from google.colab.patches import cv2_imshow # cv2.imshow in colab\n",
        "%matplotlib inline"
      ],
      "metadata": {
        "id": "_YVA3m4ulBFJ"
      },
      "execution_count": null,
      "outputs": []
    },
    {
      "cell_type": "markdown",
      "source": [
        "# Read Underwater Images"
      ],
      "metadata": {
        "id": "wGK2XmqRkYdP"
      }
    },
    {
      "cell_type": "code",
      "source": [
        "from google.colab import drive\n",
        "drive.mount('/content/gdrive')"
      ],
      "metadata": {
        "id": "LRssq4HAkbqh"
      },
      "execution_count": null,
      "outputs": []
    },
    {
      "cell_type": "code",
      "source": [
        "image1 = cv2.imread(\"/content/gdrive/MyDrive/.../img1.jpg\")\n",
        "image2 = cv2.imread(\"/content/gdrive/MyDrive/.../img2.jpg\")"
      ],
      "metadata": {
        "id": "sm5k8lyGkxg2"
      },
      "execution_count": null,
      "outputs": []
    },
    {
      "cell_type": "markdown",
      "source": [
        " # 1. Efficient Image Dehazing with Boundary Constraint and Contextual Regularization\n",
        "\n",
        " references:\n",
        "* https://openaccess.thecvf.com/content_iccv_2013/papers/Meng_Efficient_Image_Dehazing_2013_ICCV_paper.pdf\n",
        "* https://github.com/Utkarsh-Deshmukh/Single-Image-Dehazing-Python\n",
        "* https://utkarsh-deshmukh.github.io/Single-Image-Dehazing-Python/"
      ],
      "metadata": {
        "id": "jka8kdBEjbVm"
      }
    },
    {
      "cell_type": "code",
      "execution_count": null,
      "metadata": {
        "id": "rFfwzWxUhRvt"
      },
      "outputs": [],
      "source": [
        "# required to restart the runtime\n",
        "!pip install image_dehazer"
      ]
    },
    {
      "cell_type": "code",
      "source": [
        "import image_dehazer"
      ],
      "metadata": {
        "id": "QsgNruhxj4qg"
      },
      "execution_count": null,
      "outputs": []
    },
    {
      "cell_type": "code",
      "source": [
        "plt.subplots(figsize=(8, 9))\n",
        "\n",
        "plt.subplot(2,1,1)\n",
        "plt.imshow(cv2.cvtColor(np.hstack((image_dehazer.remove_haze(image1.copy()), image1)), cv2.COLOR_RGB2BGR))\n",
        "plt.title(\"corrected (left) - image1 - original (right)\")\n",
        "\n",
        "plt.subplot(2,1,2)\n",
        "plt.imshow(cv2.cvtColor(np.hstack((image_dehazer.remove_haze(image2.copy()), image2)), cv2.COLOR_RGB2BGR))\n",
        "plt.title(\"corrected (left) - image2 - original (right)\")"
      ],
      "metadata": {
        "id": "pVzENWI3j4yp"
      },
      "execution_count": null,
      "outputs": []
    },
    {
      "cell_type": "markdown",
      "source": [
        "# 2. Single Image Haze Removal Using Dark Channel Prior\n",
        "\n",
        "references:\n",
        "\n",
        "* Single Image Haze Removal Using Dark Channel Prior, Kaiming He, Jian Sun, and Xiaoou Tang\", in CVPR 2009\n",
        "* Guided Image Filtering, Kaiming He, Jian Sun, and Xiaoou Tang\", in ECCV 2010\n",
        "* https://github.com/He-Zhang/image_dehaze"
      ],
      "metadata": {
        "id": "xQN6Gm_vjf_n"
      }
    },
    {
      "cell_type": "code",
      "source": [
        "def DarkChannel(im,sz):\n",
        "    b,g,r = cv2.split(im)\n",
        "    dc = cv2.min(cv2.min(r,g),b)\n",
        "    kernel = cv2.getStructuringElement(cv2.MORPH_RECT,(sz,sz))\n",
        "    dark = cv2.erode(dc,kernel)\n",
        "    return dark\n",
        "\n",
        "def AtmLight(im,dark):\n",
        "    [h,w] = im.shape[:2]\n",
        "    imsz = h*w\n",
        "    numpx = int(max(math.floor(imsz/1000),1))\n",
        "    darkvec = dark.reshape(imsz);\n",
        "    imvec = im.reshape(imsz,3);\n",
        "\n",
        "    indices = darkvec.argsort();\n",
        "    indices = indices[imsz-numpx::]\n",
        "\n",
        "    atmsum = np.zeros([1,3])\n",
        "    for ind in range(1,numpx):\n",
        "       atmsum = atmsum + imvec[indices[ind]]\n",
        "\n",
        "    A = atmsum / numpx\n",
        "    return A\n",
        "\n",
        "def TransmissionEstimate(im,A,sz):\n",
        "    omega = 0.95;\n",
        "    im3 = np.empty(im.shape,im.dtype)\n",
        "\n",
        "    for ind in range(0,3):\n",
        "        im3[:,:,ind] = im[:,:,ind]/A[0,ind]\n",
        "\n",
        "    transmission = 1 - omega*DarkChannel(im3,sz)\n",
        "    return transmission\n",
        "\n",
        "def Guidedfilter(im,p,r,eps):\n",
        "    mean_I = cv2.boxFilter(im,cv2.CV_64F,(r,r))\n",
        "    mean_p = cv2.boxFilter(p, cv2.CV_64F,(r,r))\n",
        "    mean_Ip = cv2.boxFilter(im*p,cv2.CV_64F,(r,r))\n",
        "    cov_Ip = mean_Ip - mean_I*mean_p\n",
        "\n",
        "    mean_II = cv2.boxFilter(im*im,cv2.CV_64F,(r,r))\n",
        "    var_I   = mean_II - mean_I*mean_I\n",
        "\n",
        "    a = cov_Ip/(var_I + eps)\n",
        "    b = mean_p - a*mean_I\n",
        "\n",
        "    mean_a = cv2.boxFilter(a,cv2.CV_64F,(r,r))\n",
        "    mean_b = cv2.boxFilter(b,cv2.CV_64F,(r,r))\n",
        "\n",
        "    q = mean_a*im + mean_b\n",
        "    return q\n",
        "\n",
        "def TransmissionRefine(im,et):\n",
        "    gray = cv2.cvtColor(im,cv2.COLOR_BGR2GRAY)\n",
        "    gray = np.float64(gray)/255\n",
        "    r = 60\n",
        "    eps = 0.0001\n",
        "    t = Guidedfilter(gray,et,r,eps)\n",
        "\n",
        "    return t\n",
        "\n",
        "def Recover(im,t,A,tx = 0.1):\n",
        "    res = np.empty(im.shape,im.dtype)\n",
        "    t = cv2.max(t,tx)\n",
        "\n",
        "    for ind in range(0,3):\n",
        "        res[:,:,ind] = (im[:,:,ind]-A[0,ind])/t + A[0,ind]\n",
        "\n",
        "    return res\n",
        "\n",
        "def img_dehaze(img_cpy):\n",
        "\n",
        "  I = img_cpy.astype('float64')/255\n",
        "  dark = DarkChannel(I,15)\n",
        "  A = AtmLight(I,dark)\n",
        "  te = TransmissionEstimate(I,A,15)\n",
        "  t = TransmissionRefine(img_cpy,te)\n",
        "  J = Recover(I,t,A,0.1)\n",
        "\n",
        "  return (J*255)"
      ],
      "metadata": {
        "id": "gcLLjx68jknw"
      },
      "execution_count": null,
      "outputs": []
    },
    {
      "cell_type": "code",
      "source": [
        "print(\"corrected (left) - image1 - original (right)\")\n",
        "cv2_imshow(np.hstack((img_dehaze(image1.copy()), image1)))\n",
        "\n",
        "print(\"\\ncorrected (left) - image2 - original (right)\")\n",
        "cv2_imshow(np.hstack((img_dehaze(image2.copy()), image2)))"
      ],
      "metadata": {
        "id": "nRneIQJwj5hm"
      },
      "execution_count": null,
      "outputs": []
    }
  ]
}